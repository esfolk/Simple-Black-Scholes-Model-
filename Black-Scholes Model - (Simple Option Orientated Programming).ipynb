{
 "cells": [
  {
   "cell_type": "code",
   "execution_count": 1,
   "id": "b2b1a4a9",
   "metadata": {},
   "outputs": [
    {
     "name": "stdout",
     "output_type": "stream",
     "text": [
      "Call Price: 10.450583572185565\n",
      "Delta: 0.6368306511756191\n",
      "Gamma: 0.018762017345846895\n",
      "Theta: -6.414027546438197\n",
      "Vega: 37.52403469169379\n",
      "Rho: 53.232481545376345\n",
      "Vanna: -0.28143026018770345\n",
      "Charm: -0.06566706071046413\n",
      "Volga: 9.850059106569622\n"
     ]
    }
   ],
   "source": [
    "import math\n",
    "from scipy.stats import norm\n",
    "\n",
    "class BlackScholes:\n",
    "    def __init__(self, S, K, T, r, sigma, option_type='call'):\n",
    "        self.S = S\n",
    "        self.K = K\n",
    "        self.T = T\n",
    "        self.r = r\n",
    "        self.sigma = sigma\n",
    "        self.option_type = option_type\n",
    "        self.d1 = (math.log(S / K) + (r + 0.5 * sigma ** 2) * T) / (sigma * math.sqrt(T))\n",
    "        self.d2 = self.d1 - sigma * math.sqrt(T)\n",
    "\n",
    "    def price(self):\n",
    "        if self.option_type == 'call':\n",
    "            return self.S * norm.cdf(self.d1) - self.K * math.exp(-self.r * self.T) * norm.cdf(self.d2)\n",
    "        elif self.option_type == 'put':\n",
    "            return self.K * math.exp(-self.r * self.T) * norm.cdf(-self.d2) - self.S * norm.cdf(-self.d1)\n",
    "\n",
    "    def delta(self):\n",
    "        if self.option_type == 'call':\n",
    "            return norm.cdf(self.d1)\n",
    "        elif self.option_type == 'put':\n",
    "            return -norm.cdf(-self.d1)\n",
    "\n",
    "    def gamma(self):\n",
    "        return norm.pdf(self.d1) / (self.S * self.sigma * math.sqrt(self.T))\n",
    "\n",
    "    def theta(self):\n",
    "        if self.option_type == 'call':\n",
    "            return -self.S * norm.pdf(self.d1) * self.sigma / (2 * math.sqrt(self.T)) - self.r * self.K * math.exp(-self.r * self.T) * norm.cdf(self.d2)\n",
    "        elif self.option_type == 'put':\n",
    "            return -self.S * norm.pdf(self.d1) * self.sigma / (2 * math.sqrt(self.T)) + self.r * self.K * math.exp(-self.r * self.T) * norm.cdf(-self.d2)\n",
    "\n",
    "    def vega(self):\n",
    "        return self.S * norm.pdf(self.d1) * math.sqrt(self.T)\n",
    "\n",
    "    def rho(self):\n",
    "        if self.option_type == 'call':\n",
    "            return self.K * self.T * math.exp(-self.r * self.T) * norm.cdf(self.d2)\n",
    "        elif self.option_type == 'put':\n",
    "            return -self.K * self.T * math.exp(-self.r * self.T) * norm.cdf(-self.d2)\n",
    "\n",
    "    def vanna(self):\n",
    "        return -norm.pdf(self.d1) * self.d2 / self.sigma\n",
    "\n",
    "    def charm(self):\n",
    "        if self.option_type == 'call':\n",
    "            return -norm.pdf(self.d1) * (2 * self.r * self.T - self.d2 * self.sigma * math.sqrt(self.T)) / (2 * self.T * self.sigma * math.sqrt(self.T))\n",
    "        elif self.option_type == 'put':\n",
    "            return norm.pdf(self.d1) * (2 * self.r * self.T - self.d2 * self.sigma * math.sqrt(self.T)) / (2 * self.T * self.sigma * math.sqrt(self.T))\n",
    "\n",
    "    def volga(self):\n",
    "        return self.S * norm.pdf(self.d1) * math.sqrt(self.T) * self.d1 * self.d2 / self.sigma\n",
    "\n",
    "# Example usage\n",
    "option = BlackScholes(S=100, K=100, T=1, r=0.05, sigma=0.2, option_type='call')\n",
    "print(\"Call Price:\", option.price())\n",
    "print(\"Delta:\", option.delta())\n",
    "print(\"Gamma:\", option.gamma())\n",
    "print(\"Theta:\", option.theta())\n",
    "print(\"Vega:\", option.vega())\n",
    "print(\"Rho:\", option.rho())\n",
    "print(\"Vanna:\", option.vanna())\n",
    "print(\"Charm:\", option.charm())\n",
    "print(\"Volga:\", option.volga())\n"
   ]
  },
  {
   "cell_type": "code",
   "execution_count": null,
   "id": "d0c02d88",
   "metadata": {},
   "outputs": [],
   "source": []
  }
 ],
 "metadata": {
  "kernelspec": {
   "display_name": "Python 3 (ipykernel)",
   "language": "python",
   "name": "python3"
  },
  "language_info": {
   "codemirror_mode": {
    "name": "ipython",
    "version": 3
   },
   "file_extension": ".py",
   "mimetype": "text/x-python",
   "name": "python",
   "nbconvert_exporter": "python",
   "pygments_lexer": "ipython3",
   "version": "3.10.9"
  }
 },
 "nbformat": 4,
 "nbformat_minor": 5
}
